{
 "cells": [
  {
   "cell_type": "code",
   "execution_count": 1,
   "metadata": {},
   "outputs": [],
   "source": [
    "import numpy as np\n",
    "import pandas as pd"
   ]
  },
  {
   "cell_type": "code",
   "execution_count": 2,
   "metadata": {},
   "outputs": [],
   "source": [
    "import matplotlib.pyplot as plt\n",
    "import seaborn as sns\n",
    "%matplotlib inline"
   ]
  },
  {
   "cell_type": "code",
   "execution_count": 3,
   "metadata": {},
   "outputs": [],
   "source": [
    "df = pd.read_csv(r'C:\\Users\\DELL\\Downloads\\archive\\911.csv')"
   ]
  },
  {
   "cell_type": "code",
   "execution_count": 4,
   "metadata": {},
   "outputs": [
    {
     "data": {
      "text/html": [
       "<div>\n",
       "<style scoped>\n",
       "    .dataframe tbody tr th:only-of-type {\n",
       "        vertical-align: middle;\n",
       "    }\n",
       "\n",
       "    .dataframe tbody tr th {\n",
       "        vertical-align: top;\n",
       "    }\n",
       "\n",
       "    .dataframe thead th {\n",
       "        text-align: right;\n",
       "    }\n",
       "</style>\n",
       "<table border=\"1\" class=\"dataframe\">\n",
       "  <thead>\n",
       "    <tr style=\"text-align: right;\">\n",
       "      <th></th>\n",
       "      <th>lat</th>\n",
       "      <th>lng</th>\n",
       "      <th>desc</th>\n",
       "      <th>zip</th>\n",
       "      <th>title</th>\n",
       "      <th>timeStamp</th>\n",
       "      <th>twp</th>\n",
       "      <th>addr</th>\n",
       "      <th>e</th>\n",
       "    </tr>\n",
       "  </thead>\n",
       "  <tbody>\n",
       "    <tr>\n",
       "      <td>0</td>\n",
       "      <td>40.297876</td>\n",
       "      <td>-75.581294</td>\n",
       "      <td>REINDEER CT &amp; DEAD END;  NEW HANOVER; Station ...</td>\n",
       "      <td>19525.0</td>\n",
       "      <td>EMS: BACK PAINS/INJURY</td>\n",
       "      <td>2015-12-10 17:10:52</td>\n",
       "      <td>NEW HANOVER</td>\n",
       "      <td>REINDEER CT &amp; DEAD END</td>\n",
       "      <td>1</td>\n",
       "    </tr>\n",
       "    <tr>\n",
       "      <td>1</td>\n",
       "      <td>40.258061</td>\n",
       "      <td>-75.264680</td>\n",
       "      <td>BRIAR PATH &amp; WHITEMARSH LN;  HATFIELD TOWNSHIP...</td>\n",
       "      <td>19446.0</td>\n",
       "      <td>EMS: DIABETIC EMERGENCY</td>\n",
       "      <td>2015-12-10 17:29:21</td>\n",
       "      <td>HATFIELD TOWNSHIP</td>\n",
       "      <td>BRIAR PATH &amp; WHITEMARSH LN</td>\n",
       "      <td>1</td>\n",
       "    </tr>\n",
       "    <tr>\n",
       "      <td>2</td>\n",
       "      <td>40.121182</td>\n",
       "      <td>-75.351975</td>\n",
       "      <td>HAWS AVE; NORRISTOWN; 2015-12-10 @ 14:39:21-St...</td>\n",
       "      <td>19401.0</td>\n",
       "      <td>Fire: GAS-ODOR/LEAK</td>\n",
       "      <td>2015-12-10 14:39:21</td>\n",
       "      <td>NORRISTOWN</td>\n",
       "      <td>HAWS AVE</td>\n",
       "      <td>1</td>\n",
       "    </tr>\n",
       "    <tr>\n",
       "      <td>3</td>\n",
       "      <td>40.116153</td>\n",
       "      <td>-75.343513</td>\n",
       "      <td>AIRY ST &amp; SWEDE ST;  NORRISTOWN; Station 308A;...</td>\n",
       "      <td>19401.0</td>\n",
       "      <td>EMS: CARDIAC EMERGENCY</td>\n",
       "      <td>2015-12-10 16:47:36</td>\n",
       "      <td>NORRISTOWN</td>\n",
       "      <td>AIRY ST &amp; SWEDE ST</td>\n",
       "      <td>1</td>\n",
       "    </tr>\n",
       "    <tr>\n",
       "      <td>4</td>\n",
       "      <td>40.251492</td>\n",
       "      <td>-75.603350</td>\n",
       "      <td>CHERRYWOOD CT &amp; DEAD END;  LOWER POTTSGROVE; S...</td>\n",
       "      <td>NaN</td>\n",
       "      <td>EMS: DIZZINESS</td>\n",
       "      <td>2015-12-10 16:56:52</td>\n",
       "      <td>LOWER POTTSGROVE</td>\n",
       "      <td>CHERRYWOOD CT &amp; DEAD END</td>\n",
       "      <td>1</td>\n",
       "    </tr>\n",
       "    <tr>\n",
       "      <td>...</td>\n",
       "      <td>...</td>\n",
       "      <td>...</td>\n",
       "      <td>...</td>\n",
       "      <td>...</td>\n",
       "      <td>...</td>\n",
       "      <td>...</td>\n",
       "      <td>...</td>\n",
       "      <td>...</td>\n",
       "      <td>...</td>\n",
       "    </tr>\n",
       "    <tr>\n",
       "      <td>663517</td>\n",
       "      <td>40.157956</td>\n",
       "      <td>-75.348060</td>\n",
       "      <td>SUNSET AVE &amp; WOODLAND AVE; EAST NORRITON; 2020...</td>\n",
       "      <td>19403.0</td>\n",
       "      <td>Traffic: VEHICLE ACCIDENT -</td>\n",
       "      <td>2020-07-29 15:46:51</td>\n",
       "      <td>EAST NORRITON</td>\n",
       "      <td>SUNSET AVE &amp; WOODLAND AVE</td>\n",
       "      <td>1</td>\n",
       "    </tr>\n",
       "    <tr>\n",
       "      <td>663518</td>\n",
       "      <td>40.136306</td>\n",
       "      <td>-75.428697</td>\n",
       "      <td>EAGLEVILLE RD &amp; BUNTING CIR;  LOWER PROVIDENCE...</td>\n",
       "      <td>19403.0</td>\n",
       "      <td>EMS: GENERAL WEAKNESS</td>\n",
       "      <td>2020-07-29 15:52:19</td>\n",
       "      <td>LOWER PROVIDENCE</td>\n",
       "      <td>EAGLEVILLE RD &amp; BUNTING CIR</td>\n",
       "      <td>1</td>\n",
       "    </tr>\n",
       "    <tr>\n",
       "      <td>663519</td>\n",
       "      <td>40.013779</td>\n",
       "      <td>-75.300835</td>\n",
       "      <td>HAVERFORD STATION RD;  LOWER MERION; Station 3...</td>\n",
       "      <td>19041.0</td>\n",
       "      <td>EMS: VEHICLE ACCIDENT</td>\n",
       "      <td>2020-07-29 15:52:52</td>\n",
       "      <td>LOWER MERION</td>\n",
       "      <td>HAVERFORD STATION RD</td>\n",
       "      <td>1</td>\n",
       "    </tr>\n",
       "    <tr>\n",
       "      <td>663520</td>\n",
       "      <td>40.121603</td>\n",
       "      <td>-75.351437</td>\n",
       "      <td>MARSHALL ST &amp; HAWS AVE; NORRISTOWN; 2020-07-29...</td>\n",
       "      <td>19401.0</td>\n",
       "      <td>Fire: BUILDING FIRE</td>\n",
       "      <td>2020-07-29 15:54:08</td>\n",
       "      <td>NORRISTOWN</td>\n",
       "      <td>MARSHALL ST &amp; HAWS AVE</td>\n",
       "      <td>1</td>\n",
       "    </tr>\n",
       "    <tr>\n",
       "      <td>663521</td>\n",
       "      <td>40.015046</td>\n",
       "      <td>-75.299674</td>\n",
       "      <td>HAVERFORD STATION RD &amp; W MONTGOMERY AVE; LOWER...</td>\n",
       "      <td>19041.0</td>\n",
       "      <td>Traffic: VEHICLE ACCIDENT -</td>\n",
       "      <td>2020-07-29 15:52:46</td>\n",
       "      <td>LOWER MERION</td>\n",
       "      <td>HAVERFORD STATION RD &amp; W MONTGOMERY AVE</td>\n",
       "      <td>1</td>\n",
       "    </tr>\n",
       "  </tbody>\n",
       "</table>\n",
       "<p>663522 rows × 9 columns</p>\n",
       "</div>"
      ],
      "text/plain": [
       "              lat        lng  \\\n",
       "0       40.297876 -75.581294   \n",
       "1       40.258061 -75.264680   \n",
       "2       40.121182 -75.351975   \n",
       "3       40.116153 -75.343513   \n",
       "4       40.251492 -75.603350   \n",
       "...           ...        ...   \n",
       "663517  40.157956 -75.348060   \n",
       "663518  40.136306 -75.428697   \n",
       "663519  40.013779 -75.300835   \n",
       "663520  40.121603 -75.351437   \n",
       "663521  40.015046 -75.299674   \n",
       "\n",
       "                                                     desc      zip  \\\n",
       "0       REINDEER CT & DEAD END;  NEW HANOVER; Station ...  19525.0   \n",
       "1       BRIAR PATH & WHITEMARSH LN;  HATFIELD TOWNSHIP...  19446.0   \n",
       "2       HAWS AVE; NORRISTOWN; 2015-12-10 @ 14:39:21-St...  19401.0   \n",
       "3       AIRY ST & SWEDE ST;  NORRISTOWN; Station 308A;...  19401.0   \n",
       "4       CHERRYWOOD CT & DEAD END;  LOWER POTTSGROVE; S...      NaN   \n",
       "...                                                   ...      ...   \n",
       "663517  SUNSET AVE & WOODLAND AVE; EAST NORRITON; 2020...  19403.0   \n",
       "663518  EAGLEVILLE RD & BUNTING CIR;  LOWER PROVIDENCE...  19403.0   \n",
       "663519  HAVERFORD STATION RD;  LOWER MERION; Station 3...  19041.0   \n",
       "663520  MARSHALL ST & HAWS AVE; NORRISTOWN; 2020-07-29...  19401.0   \n",
       "663521  HAVERFORD STATION RD & W MONTGOMERY AVE; LOWER...  19041.0   \n",
       "\n",
       "                              title            timeStamp                twp  \\\n",
       "0            EMS: BACK PAINS/INJURY  2015-12-10 17:10:52        NEW HANOVER   \n",
       "1           EMS: DIABETIC EMERGENCY  2015-12-10 17:29:21  HATFIELD TOWNSHIP   \n",
       "2               Fire: GAS-ODOR/LEAK  2015-12-10 14:39:21         NORRISTOWN   \n",
       "3            EMS: CARDIAC EMERGENCY  2015-12-10 16:47:36         NORRISTOWN   \n",
       "4                    EMS: DIZZINESS  2015-12-10 16:56:52   LOWER POTTSGROVE   \n",
       "...                             ...                  ...                ...   \n",
       "663517  Traffic: VEHICLE ACCIDENT -  2020-07-29 15:46:51      EAST NORRITON   \n",
       "663518        EMS: GENERAL WEAKNESS  2020-07-29 15:52:19   LOWER PROVIDENCE   \n",
       "663519        EMS: VEHICLE ACCIDENT  2020-07-29 15:52:52       LOWER MERION   \n",
       "663520          Fire: BUILDING FIRE  2020-07-29 15:54:08         NORRISTOWN   \n",
       "663521  Traffic: VEHICLE ACCIDENT -  2020-07-29 15:52:46       LOWER MERION   \n",
       "\n",
       "                                           addr  e  \n",
       "0                        REINDEER CT & DEAD END  1  \n",
       "1                    BRIAR PATH & WHITEMARSH LN  1  \n",
       "2                                      HAWS AVE  1  \n",
       "3                            AIRY ST & SWEDE ST  1  \n",
       "4                      CHERRYWOOD CT & DEAD END  1  \n",
       "...                                         ... ..  \n",
       "663517                SUNSET AVE & WOODLAND AVE  1  \n",
       "663518              EAGLEVILLE RD & BUNTING CIR  1  \n",
       "663519                     HAVERFORD STATION RD  1  \n",
       "663520                   MARSHALL ST & HAWS AVE  1  \n",
       "663521  HAVERFORD STATION RD & W MONTGOMERY AVE  1  \n",
       "\n",
       "[663522 rows x 9 columns]"
      ]
     },
     "execution_count": 4,
     "metadata": {},
     "output_type": "execute_result"
    }
   ],
   "source": [
    "df"
   ]
  },
  {
   "cell_type": "code",
   "execution_count": 7,
   "metadata": {},
   "outputs": [
    {
     "data": {
      "text/plain": [
       "19401.0    45606\n",
       "19464.0    43910\n",
       "19403.0    34888\n",
       "19446.0    32270\n",
       "19406.0    22464\n",
       "Name: zip, dtype: int64"
      ]
     },
     "execution_count": 7,
     "metadata": {},
     "output_type": "execute_result"
    }
   ],
   "source": [
    "df['zip'].value_counts().head(5)"
   ]
  },
  {
   "cell_type": "code",
   "execution_count": 8,
   "metadata": {},
   "outputs": [
    {
     "data": {
      "text/plain": [
       "LOWER MERION    55490\n",
       "ABINGTON        39947\n",
       "NORRISTOWN      37633\n",
       "UPPER MERION    36010\n",
       "CHELTENHAM      30574\n",
       "Name: twp, dtype: int64"
      ]
     },
     "execution_count": 8,
     "metadata": {},
     "output_type": "execute_result"
    }
   ],
   "source": [
    "df['twp'].value_counts().head(5)"
   ]
  },
  {
   "cell_type": "code",
   "execution_count": 13,
   "metadata": {},
   "outputs": [
    {
     "data": {
      "text/plain": [
       "148"
      ]
     },
     "execution_count": 13,
     "metadata": {},
     "output_type": "execute_result"
    }
   ],
   "source": [
    "df['title'].nunique()"
   ]
  },
  {
   "cell_type": "code",
   "execution_count": 17,
   "metadata": {},
   "outputs": [],
   "source": [
    "x=df['title'].iloc[0]"
   ]
  },
  {
   "cell_type": "code",
   "execution_count": 18,
   "metadata": {},
   "outputs": [
    {
     "data": {
      "text/plain": [
       "'EMS'"
      ]
     },
     "execution_count": 18,
     "metadata": {},
     "output_type": "execute_result"
    }
   ],
   "source": [
    "x.split(':')[0]"
   ]
  },
  {
   "cell_type": "code",
   "execution_count": 19,
   "metadata": {},
   "outputs": [],
   "source": [
    "df['Reason'] = df['title'].apply(lambda title: title.split(':')[0])"
   ]
  },
  {
   "cell_type": "code",
   "execution_count": 22,
   "metadata": {},
   "outputs": [
    {
     "data": {
      "text/plain": [
       "EMS        332692\n",
       "Traffic    230208\n",
       "Fire       100622\n",
       "Name: Reason, dtype: int64"
      ]
     },
     "execution_count": 22,
     "metadata": {},
     "output_type": "execute_result"
    }
   ],
   "source": [
    "df['Reason'].value_counts().head()"
   ]
  },
  {
   "cell_type": "code",
   "execution_count": 23,
   "metadata": {},
   "outputs": [
    {
     "data": {
      "text/plain": [
       "<matplotlib.axes._subplots.AxesSubplot at 0x1555a2d9b48>"
      ]
     },
     "execution_count": 23,
     "metadata": {},
     "output_type": "execute_result"
    },
    {
     "data": {
      "image/png": "[encoded data removed]",
      "text/plain": [
       "<Figure size 432x288 with 1 Axes>"
      ]
     },
     "metadata": {
      "needs_background": "light"
     },
     "output_type": "display_data"
    }
   ],
   "source": [
    "sns.countplot(x='Reason',data=df)"
   ]
  },
  {
   "cell_type": "code",
   "execution_count": 28,
   "metadata": {},
   "outputs": [
    {
     "data": {
      "text/plain": [
       "str"
      ]
     },
     "execution_count": 28,
     "metadata": {},
     "output_type": "execute_result"
    }
   ],
   "source": [
    "type(df['timeStamp'].iloc[0])"
   ]
  },
  {
   "cell_type": "code",
   "execution_count": 35,
   "metadata": {},
   "outputs": [],
   "source": [
    "df['timeStamp'] = pd.to_datetime(df['timeStamp'])"
   ]
  },
  {
   "cell_type": "code",
   "execution_count": 36,
   "metadata": {},
   "outputs": [
    {
     "data": {
      "text/plain": [
       "0        2015-12-10 17:10:52\n",
       "1        2015-12-10 17:29:21\n",
       "2        2015-12-10 14:39:21\n",
       "3        2015-12-10 16:47:36\n",
       "4        2015-12-10 16:56:52\n",
       "                 ...        \n",
       "663517   2020-07-29 15:46:51\n",
       "663518   2020-07-29 15:52:19\n",
       "663519   2020-07-29 15:52:52\n",
       "663520   2020-07-29 15:54:08\n",
       "663521   2020-07-29 15:52:46\n",
       "Name: timeStamp, Length: 663522, dtype: datetime64[ns]"
      ]
     },
     "execution_count": 36,
     "metadata": {},
     "output_type": "execute_result"
    }
   ],
   "source": [
    "df['timeStamp']"
   ]
  },
  {
   "cell_type": "code",
   "execution_count": 37,
   "metadata": {},
   "outputs": [
    {
     "data": {
      "text/plain": [
       "17"
      ]
     },
     "execution_count": 37,
     "metadata": {},
     "output_type": "execute_result"
    }
   ],
   "source": [
    "time = df['timeStamp'].iloc[0]\n",
    "time.hour"
   ]
  },
  {
   "cell_type": "code",
   "execution_count": 39,
   "metadata": {},
   "outputs": [
    {
     "data": {
      "text/plain": [
       "3"
      ]
     },
     "execution_count": 39,
     "metadata": {},
     "output_type": "execute_result"
    }
   ],
   "source": [
    "time.dayofweek"
   ]
  },
  {
   "cell_type": "code",
   "execution_count": 41,
   "metadata": {},
   "outputs": [],
   "source": [
    "df['Hour'] = df['timeStamp'].apply(lambda time: time.hour)"
   ]
  },
  {
   "cell_type": "code",
   "execution_count": 43,
   "metadata": {},
   "outputs": [
    {
     "data": {
      "text/plain": [
       "0         17\n",
       "1         17\n",
       "2         14\n",
       "3         16\n",
       "4         16\n",
       "          ..\n",
       "663517    15\n",
       "663518    15\n",
       "663519    15\n",
       "663520    15\n",
       "663521    15\n",
       "Name: Hour, Length: 663522, dtype: int64"
      ]
     },
     "execution_count": 43,
     "metadata": {},
     "output_type": "execute_result"
    }
   ],
   "source": [
    "df['Hour']"
   ]
  },
  {
   "cell_type": "code",
   "execution_count": 44,
   "metadata": {},
   "outputs": [],
   "source": [
    "df['month'] = df['timeStamp'].apply(lambda time: time.month)\n",
    "df['dayofweek'] = df['timeStamp'].apply(lambda time: time.dayofweek)"
   ]
  },
  {
   "cell_type": "code",
   "execution_count": 45,
   "metadata": {},
   "outputs": [
    {
     "data": {
      "text/plain": [
       "0         12\n",
       "1         12\n",
       "2         12\n",
       "3         12\n",
       "4         12\n",
       "          ..\n",
       "663517     7\n",
       "663518     7\n",
       "663519     7\n",
       "663520     7\n",
       "663521     7\n",
       "Name: month, Length: 663522, dtype: int64"
      ]
     },
     "execution_count": 45,
     "metadata": {},
     "output_type": "execute_result"
    }
   ],
   "source": [
    "df['month']"
   ]
  },
  {
   "cell_type": "code",
   "execution_count": 46,
   "metadata": {},
   "outputs": [
    {
     "data": {
      "text/plain": [
       "0         3\n",
       "1         3\n",
       "2         3\n",
       "3         3\n",
       "4         3\n",
       "         ..\n",
       "663517    2\n",
       "663518    2\n",
       "663519    2\n",
       "663520    2\n",
       "663521    2\n",
       "Name: dayofweek, Length: 663522, dtype: int64"
      ]
     },
     "execution_count": 46,
     "metadata": {},
     "output_type": "execute_result"
    }
   ],
   "source": [
    "df['dayofweek']"
   ]
  },
  {
   "cell_type": "code",
   "execution_count": 49,
   "metadata": {},
   "outputs": [
    {
     "name": "stdout",
     "output_type": "stream",
     "text": [
      "Collecting pandas-datareader\n",
      "  Downloading https://files.pythonhosted.org/packages/3f/16/56c9d648b503619ebe96f726b5f642b68e299b34162ed2d6faa9d7966b7d/pandas_datareader-0.10.0-py3-none-any.whl (109kB)\n",
      "Requirement already satisfied: pandas>=0.23 in c:\\users\\dell\\appdata\\local\\continuum\\anaconda3\\lib\\site-packages (from pandas-datareader) (0.25.1)\n",
      "Requirement already satisfied: requests>=2.19.0 in c:\\users\\dell\\appdata\\local\\continuum\\anaconda3\\lib\\site-packages (from pandas-datareader) (2.22.0)\n",
      "Requirement already satisfied: lxml in c:\\users\\dell\\appdata\\local\\continuum\\anaconda3\\lib\\site-packages (from pandas-datareader) (4.4.1)\n",
      "Requirement already satisfied: python-dateutil>=2.6.1 in c:\\users\\dell\\appdata\\local\\continuum\\anaconda3\\lib\\site-packages (from pandas>=0.23->pandas-datareader) (2.8.0)\n",
      "Requirement already satisfied: pytz>=2017.2 in c:\\users\\dell\\appdata\\local\\continuum\\anaconda3\\lib\\site-packages (from pandas>=0.23->pandas-datareader) (2019.3)\n",
      "Requirement already satisfied: numpy>=1.13.3 in c:\\users\\dell\\appdata\\local\\continuum\\anaconda3\\lib\\site-packages (from pandas>=0.23->pandas-datareader) (1.16.5)\n",
      "Requirement already satisfied: urllib3!=1.25.0,!=1.25.1,<1.26,>=1.21.1 in c:\\users\\dell\\appdata\\local\\continuum\\anaconda3\\lib\\site-packages (from requests>=2.19.0->pandas-datareader) (1.24.2)\n",
      "Requirement already satisfied: chardet<3.1.0,>=3.0.2 in c:\\users\\dell\\appdata\\local\\continuum\\anaconda3\\lib\\site-packages (from requests>=2.19.0->pandas-datareader) (3.0.4)\n",
      "Requirement already satisfied: certifi>=2017.4.17 in c:\\users\\dell\\appdata\\local\\continuum\\anaconda3\\lib\\site-packages (from requests>=2.19.0->pandas-datareader) (2019.9.11)\n",
      "Requirement already satisfied: idna<2.9,>=2.5 in c:\\users\\dell\\appdata\\local\\continuum\\anaconda3\\lib\\site-packages (from requests>=2.19.0->pandas-datareader) (2.8)\n",
      "Requirement already satisfied: six>=1.5 in c:\\users\\dell\\appdata\\local\\continuum\\anaconda3\\lib\\site-packages (from python-dateutil>=2.6.1->pandas>=0.23->pandas-datareader) (1.12.0)\n",
      "Installing collected packages: pandas-datareader\n",
      "Successfully installed pandas-datareader-0.10.0\n",
      "Note: you may need to restart the kernel to use updated packages.\n"
     ]
    }
   ],
   "source": [
    "pip install pandas-datareader"
   ]
  },
  {
   "cell_type": "markdown",
   "metadata": {},
   "source": [
    "__Finance Project__"
   ]
  },
  {
   "cell_type": "code",
   "execution_count": 58,
   "metadata": {},
   "outputs": [],
   "source": [
    "import datetime\n",
    "from pandas_datareader import data, wb\n"
   ]
  },
  {
   "cell_type": "code",
   "execution_count": 55,
   "metadata": {},
   "outputs": [],
   "source": [
    "start = datetime.datetime(2006,1,1)\n",
    "end = datetime.datetime(2016,1,1)"
   ]
  },
  {
   "cell_type": "code",
   "execution_count": 64,
   "metadata": {},
   "outputs": [],
   "source": [
    "BAC = data.DataReader('BAC', 'yahoo',start, end)"
   ]
  },
  {
   "cell_type": "code",
   "execution_count": 65,
   "metadata": {},
   "outputs": [
    {
     "data": {
      "text/html": [
       "<div>\n",
       "<style scoped>\n",
       "    .dataframe tbody tr th:only-of-type {\n",
       "        vertical-align: middle;\n",
       "    }\n",
       "\n",
       "    .dataframe tbody tr th {\n",
       "        vertical-align: top;\n",
       "    }\n",
       "\n",
       "    .dataframe thead th {\n",
       "        text-align: right;\n",
       "    }\n",
       "</style>\n",
       "<table border=\"1\" class=\"dataframe\">\n",
       "  <thead>\n",
       "    <tr style=\"text-align: right;\">\n",
       "      <th></th>\n",
       "      <th>High</th>\n",
       "      <th>Low</th>\n",
       "      <th>Open</th>\n",
       "      <th>Close</th>\n",
       "      <th>Volume</th>\n",
       "      <th>Adj Close</th>\n",
       "    </tr>\n",
       "    <tr>\n",
       "      <th>Date</th>\n",
       "      <th></th>\n",
       "      <th></th>\n",
       "      <th></th>\n",
       "      <th></th>\n",
       "      <th></th>\n",
       "      <th></th>\n",
       "    </tr>\n",
       "  </thead>\n",
       "  <tbody>\n",
       "    <tr>\n",
       "      <td>2006-01-03</td>\n",
       "      <td>47.180000</td>\n",
       "      <td>46.150002</td>\n",
       "      <td>46.919998</td>\n",
       "      <td>47.080002</td>\n",
       "      <td>16296700.0</td>\n",
       "      <td>34.280807</td>\n",
       "    </tr>\n",
       "    <tr>\n",
       "      <td>2006-01-04</td>\n",
       "      <td>47.240002</td>\n",
       "      <td>46.450001</td>\n",
       "      <td>47.000000</td>\n",
       "      <td>46.580002</td>\n",
       "      <td>17757900.0</td>\n",
       "      <td>33.916729</td>\n",
       "    </tr>\n",
       "    <tr>\n",
       "      <td>2006-01-05</td>\n",
       "      <td>46.830002</td>\n",
       "      <td>46.320000</td>\n",
       "      <td>46.580002</td>\n",
       "      <td>46.639999</td>\n",
       "      <td>14970700.0</td>\n",
       "      <td>33.960411</td>\n",
       "    </tr>\n",
       "    <tr>\n",
       "      <td>2006-01-06</td>\n",
       "      <td>46.910000</td>\n",
       "      <td>46.349998</td>\n",
       "      <td>46.799999</td>\n",
       "      <td>46.570000</td>\n",
       "      <td>12599800.0</td>\n",
       "      <td>33.909451</td>\n",
       "    </tr>\n",
       "    <tr>\n",
       "      <td>2006-01-09</td>\n",
       "      <td>46.970001</td>\n",
       "      <td>46.360001</td>\n",
       "      <td>46.720001</td>\n",
       "      <td>46.599998</td>\n",
       "      <td>15619400.0</td>\n",
       "      <td>33.931290</td>\n",
       "    </tr>\n",
       "    <tr>\n",
       "      <td>...</td>\n",
       "      <td>...</td>\n",
       "      <td>...</td>\n",
       "      <td>...</td>\n",
       "      <td>...</td>\n",
       "      <td>...</td>\n",
       "      <td>...</td>\n",
       "    </tr>\n",
       "    <tr>\n",
       "      <td>2015-12-24</td>\n",
       "      <td>17.379999</td>\n",
       "      <td>17.219999</td>\n",
       "      <td>17.320000</td>\n",
       "      <td>17.270000</td>\n",
       "      <td>29369400.0</td>\n",
       "      <td>15.509130</td>\n",
       "    </tr>\n",
       "    <tr>\n",
       "      <td>2015-12-28</td>\n",
       "      <td>17.230000</td>\n",
       "      <td>16.980000</td>\n",
       "      <td>17.219999</td>\n",
       "      <td>17.129999</td>\n",
       "      <td>41777500.0</td>\n",
       "      <td>15.383405</td>\n",
       "    </tr>\n",
       "    <tr>\n",
       "      <td>2015-12-29</td>\n",
       "      <td>17.350000</td>\n",
       "      <td>17.160000</td>\n",
       "      <td>17.250000</td>\n",
       "      <td>17.280001</td>\n",
       "      <td>45670400.0</td>\n",
       "      <td>15.518112</td>\n",
       "    </tr>\n",
       "    <tr>\n",
       "      <td>2015-12-30</td>\n",
       "      <td>17.240000</td>\n",
       "      <td>17.040001</td>\n",
       "      <td>17.200001</td>\n",
       "      <td>17.049999</td>\n",
       "      <td>35066400.0</td>\n",
       "      <td>15.311558</td>\n",
       "    </tr>\n",
       "    <tr>\n",
       "      <td>2015-12-31</td>\n",
       "      <td>17.070000</td>\n",
       "      <td>16.830000</td>\n",
       "      <td>17.010000</td>\n",
       "      <td>16.830000</td>\n",
       "      <td>47153000.0</td>\n",
       "      <td>15.113990</td>\n",
       "    </tr>\n",
       "  </tbody>\n",
       "</table>\n",
       "<p>2517 rows × 6 columns</p>\n",
       "</div>"
      ],
      "text/plain": [
       "                 High        Low       Open      Close      Volume  Adj Close\n",
       "Date                                                                         \n",
       "2006-01-03  47.180000  46.150002  46.919998  47.080002  16296700.0  34.280807\n",
       "2006-01-04  47.240002  46.450001  47.000000  46.580002  17757900.0  33.916729\n",
       "2006-01-05  46.830002  46.320000  46.580002  46.639999  14970700.0  33.960411\n",
       "2006-01-06  46.910000  46.349998  46.799999  46.570000  12599800.0  33.909451\n",
       "2006-01-09  46.970001  46.360001  46.720001  46.599998  15619400.0  33.931290\n",
       "...               ...        ...        ...        ...         ...        ...\n",
       "2015-12-24  17.379999  17.219999  17.320000  17.270000  29369400.0  15.509130\n",
       "2015-12-28  17.230000  16.980000  17.219999  17.129999  41777500.0  15.383405\n",
       "2015-12-29  17.350000  17.160000  17.250000  17.280001  45670400.0  15.518112\n",
       "2015-12-30  17.240000  17.040001  17.200001  17.049999  35066400.0  15.311558\n",
       "2015-12-31  17.070000  16.830000  17.010000  16.830000  47153000.0  15.113990\n",
       "\n",
       "[2517 rows x 6 columns]"
      ]
     },
     "execution_count": 65,
     "metadata": {},
     "output_type": "execute_result"
    }
   ],
   "source": [
    "BAC"
   ]
  },
  {
   "cell_type": "code",
   "execution_count": null,
   "metadata": {},
   "outputs": [],
   "source": []
  }
 ],
 "metadata": {
  "kernelspec": {
   "display_name": "Python 3",
   "language": "python",
   "name": "python3"
  },
  "language_info": {
   "codemirror_mode": {
    "name": "ipython",
    "version": 3
   },
   "file_extension": ".py",
   "mimetype": "text/x-python",
   "name": "python",
   "nbconvert_exporter": "python",
   "pygments_lexer": "ipython3",
   "version": "3.7.4"
  }
 },
 "nbformat": 4,
 "nbformat_minor": 2
}
